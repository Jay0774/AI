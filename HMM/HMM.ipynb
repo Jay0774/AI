{
  "nbformat": 4,
  "nbformat_minor": 0,
  "metadata": {
    "colab": {
      "name": "HMM.ipynb",
      "provenance": [],
      "collapsed_sections": []
    },
    "kernelspec": {
      "name": "python3",
      "display_name": "Python 3"
    },
    "language_info": {
      "name": "python"
    }
  },
  "cells": [
    {
      "cell_type": "markdown",
      "source": [
        "# **HMM Viterbi, Forward and Backward**\n",
        "# Importing the required Libraries"
      ],
      "metadata": {
        "id": "B7DFfMGPReLe"
      }
    },
    {
      "cell_type": "code",
      "execution_count": 29,
      "metadata": {
        "id": "g82S4fs3K9pW"
      },
      "outputs": [],
      "source": [
        "import numpy as np\n",
        "import matplotlib.pyplot as plt"
      ]
    },
    {
      "cell_type": "markdown",
      "source": [
        "# Defining the functions for Veterbi Algorithm\n",
        "## It performs the veterbi algorithm and return the Best state sequence and the probabbility for that sequence."
      ],
      "metadata": {
        "id": "GwiRdePUTF8s"
      }
    },
    {
      "cell_type": "code",
      "source": [
        "def veterbi(states,o,i,t,seq):\n",
        "  state_seq = [i]\n",
        "  p = i\n",
        "  prob = [1]\n",
        "  for j in range(len(seq)):\n",
        "    for k in range(len(state_seq)):\n",
        "      s1 = state_seq[k]\n",
        "      s2 = prob[k]\n",
        "      p = state_seq[k][len(state_seq[k])-1]\n",
        "      for l in range(len(states)):\n",
        "        if l == 0:\n",
        "          state_seq[k] = state_seq[k] + states[l]\n",
        "          prob[k] = prob[k] * t[(p,seq[j],states[l])]\n",
        "        else: \n",
        "          new_seq = s1 + states[1]\n",
        "          new_p = s2 * t[(p,seq[j],states[1])]  \n",
        "          state_seq.append(new_seq)\n",
        "          prob.append(new_p)\n",
        "  argmax = prob.index(max(prob))\n",
        "  return state_seq[argmax],prob[argmax]"
      ],
      "metadata": {
        "id": "WBwKzxybPH8l"
      },
      "execution_count": 30,
      "outputs": []
    },
    {
      "cell_type": "markdown",
      "source": [
        "# Defining the Function for Alpha and Beta Algorithm"
      ],
      "metadata": {
        "id": "JhPp5iBEqmg2"
      }
    },
    {
      "cell_type": "code",
      "source": [
        "def alpha(states,o,i,t,seq):\n",
        "  alpha = []\n",
        "  a = []\n",
        "  for j in range(len(states)):\n",
        "    if states[j] == i:\n",
        "      a.append(1)\n",
        "    else:\n",
        "      a.append(0)\n",
        "  alpha.append(a)\n",
        "  for j in range(len(seq)):\n",
        "    a = alpha[j]\n",
        "    n = []\n",
        "    for k in range(len(states)):\n",
        "      sum = 0\n",
        "      for l in range(len(states)):\n",
        "        sum+=a[l]*t[(states[l],seq[j],states[k])]\n",
        "      n.append(sum)\n",
        "    alpha.append(n)\n",
        "  return alpha\n",
        "\n",
        "def beta(states,o,i,t,seq):\n",
        "  beta = []\n",
        "  b = []\n",
        "  for j in range(len(states)):\n",
        "    b.append(1)\n",
        "  beta.append(b)\n",
        "  j = len(seq)-1\n",
        "  while j != -1:\n",
        "    b = beta[len(seq)-1 - j]\n",
        "    n = []\n",
        "    for k in range(len(states)):\n",
        "      sum = 0\n",
        "      for l in range(len(states)):\n",
        "        sum+=b[l]*t[(states[k],seq[j],states[l])]\n",
        "      n.append(sum)\n",
        "    if j == 0:\n",
        "      for m in range(len(states)):\n",
        "        if states[m] != i:\n",
        "          n[m] = 0\n",
        "    beta.append(n)\n",
        "    j = j - 1 \n",
        "  return beta\n",
        "\n",
        "def get_probability(x):\n",
        "  p = []\n",
        "  for j in range(len(x)):\n",
        "    sum = 0\n",
        "    for k in range(len(x[j])):\n",
        "      sum += x[j][k]\n",
        "    p.append(sum)\n",
        "  return p \n",
        "\n",
        "def get_probability_state(a,b,p):\n",
        "  s = []\n",
        "  for i in range(len(a)):\n",
        "    l =[]\n",
        "    for j in range(len(a[i])):\n",
        "      l.append((a[i][j]*b[i][j])/p[i])\n",
        "    s.append(l)\n",
        "  return s"
      ],
      "metadata": {
        "id": "nHIMJgdfqw3U"
      },
      "execution_count": 31,
      "outputs": []
    },
    {
      "cell_type": "code",
      "source": [
        "def updated_tranitions(states,o,i,t,seq):\n",
        "  a = alpha(states,o,i,t,seq)\n",
        "  b1 = beta(states,o,i,t,seq)\n",
        "  b = []\n",
        "  for j in range(len(b1)):\n",
        "    b.append(b1[len(b1)-1-j])\n",
        "  p = get_probability(a)\n",
        "  c = t.copy()\n",
        "  d = []\n",
        "  #print(a)\n",
        "  #print(b)\n",
        "  for j in range(len(states)):\n",
        "    for k in range(len(o)):\n",
        "      for l in range(len(states)):\n",
        "        sum = 0\n",
        "        pb = 1\n",
        "        for m in range(len(seq)):\n",
        "          pb = pb * t[(states[j],o[k],states[l])]\n",
        "          sum += a[m][j]*pb*b[m+1][l]\n",
        "          #print(sum,\" \",a[m][j]*pb[m][j]*b[m+1][l],a[m][j],pb[m][j],b[m+1][l],\"\\n\")\n",
        "        #print(sum)\n",
        "        #sum = sum / p\n",
        "        c[(states[j],o[k],states[l])]=sum\n",
        "  #print(c)\n",
        "  for j in range(len(states)):\n",
        "    sum = 0\n",
        "    for k in range(len(o)):\n",
        "      for l in range(len(states)):\n",
        "        sum = sum + c[(states[j],o[k],states[l])]\n",
        "    d.append(sum)\n",
        "  #print(d)\n",
        "  for j in range(len(states)):\n",
        "    for k in range(len(o)):\n",
        "      for l in range(len(states)):\n",
        "        if d[j]!=0:\n",
        "          #print(c[(states[j],o[k],states[l])]/d[j])\n",
        "          c[(states[j],o[k],states[l])] = c[(states[j],o[k],states[l])]/d[j]\n",
        "  return c\n",
        "\n",
        "def get_transition_prob(s,o,a,b):\n",
        "  new_t = {}\n",
        "  for i in range(len(s)):\n",
        "    for j in range(len(o)):\n",
        "      for k in range(len(s)):\n",
        "        new_t[(s[i],o[j],s[k])] = a[(s[i],s[k])]*b[(o[j],s[i])]\n",
        "  return new_t\n",
        "\n",
        "def difference(states,o,x,y):\n",
        "  d = []\n",
        "  for j in range(len(states)):\n",
        "    for k in range(len(o)):\n",
        "      for l in range(len(states)):\n",
        "        d.append(x[(states[j],o[k],states[l])]-y[(states[j],o[k],states[l])])\n",
        "  return d \n",
        "\n",
        "def hmm_training(states,o,i,t,seq):\n",
        "  z = 0\n",
        "  initial = t.copy()\n",
        "  update = updated_tranitions(states,o,i,t,seq).copy()\n",
        "  #print(update)\n",
        "  for j in range(15):\n",
        "    update_next = updated_tranitions(states,o,i,update,seq).copy()\n",
        "    diff = difference(states,o,update_next,update)\n",
        "    #print(update_next)\n",
        "    update = update_next.copy()\n",
        "    if np.sum(diff) == 0:\n",
        "      z = z + 1\n",
        "      if z == 2:\n",
        "        break\n",
        "  return update "
      ],
      "metadata": {
        "id": "FiBdeGDskZiT"
      },
      "execution_count": 32,
      "outputs": []
    },
    {
      "cell_type": "markdown",
      "source": [
        "# Taking the input HMM"
      ],
      "metadata": {
        "id": "VmniQ12qLHWn"
      }
    },
    {
      "cell_type": "code",
      "source": [
        "states = input(\"Enter comma seprated States:\\n\").split(\",\")\n",
        "i = input(\"Enter initial state:\\n\")\n",
        "observable = input(\"Enter comma seprated variables:\\n\").split(\",\")\n",
        "t = {}\n",
        "for k in range(len(states)):\n",
        "  for l in range(len(observable)):\n",
        "    for m in range(len(states)):\n",
        "      s = \"Enter the probability for \"+states[k]+\" -> \"+states[m]+\" for the observation \"+observable[l]+\"\\n\"\n",
        "      t[states[k],observable[l],states[m]] = float(input(s))\n",
        "print(t)"
      ],
      "metadata": {
        "colab": {
          "base_uri": "https://localhost:8080/"
        },
        "id": "up92fzTmQpes",
        "outputId": "fe87f358-5d26-477f-b800-8237593b932f"
      },
      "execution_count": 33,
      "outputs": [
        {
          "output_type": "stream",
          "name": "stdout",
          "text": [
            "Enter comma seprated States:\n",
            "q,r,s\n",
            "Enter initial state:\n",
            "q\n",
            "Enter comma seprated variables:\n",
            "a,b\n",
            "Enter the probability for q -> q for the observation a\n",
            "0\n",
            "Enter the probability for q -> r for the observation a\n",
            "0.25\n",
            "Enter the probability for q -> s for the observation a\n",
            "0.25\n",
            "Enter the probability for q -> q for the observation b\n",
            "0\n",
            "Enter the probability for q -> r for the observation b\n",
            "0.25\n",
            "Enter the probability for q -> s for the observation b\n",
            "0.25\n",
            "Enter the probability for r -> q for the observation a\n",
            "0.5\n",
            "Enter the probability for r -> r for the observation a\n",
            "0\n",
            "Enter the probability for r -> s for the observation a\n",
            "0\n",
            "Enter the probability for r -> q for the observation b\n",
            "0.5\n",
            "Enter the probability for r -> r for the observation b\n",
            "0\n",
            "Enter the probability for r -> s for the observation b\n",
            "0\n",
            "Enter the probability for s -> q for the observation a\n",
            "0.5\n",
            "Enter the probability for s -> r for the observation a\n",
            "0\n",
            "Enter the probability for s -> s for the observation a\n",
            "0\n",
            "Enter the probability for s -> q for the observation b\n",
            "0.5\n",
            "Enter the probability for s -> r for the observation b\n",
            "0\n",
            "Enter the probability for s -> s for the observation b\n",
            "0\n",
            "{('q', 'a', 'q'): 0.0, ('q', 'a', 'r'): 0.25, ('q', 'a', 's'): 0.25, ('q', 'b', 'q'): 0.0, ('q', 'b', 'r'): 0.25, ('q', 'b', 's'): 0.25, ('r', 'a', 'q'): 0.5, ('r', 'a', 'r'): 0.0, ('r', 'a', 's'): 0.0, ('r', 'b', 'q'): 0.5, ('r', 'b', 'r'): 0.0, ('r', 'b', 's'): 0.0, ('s', 'a', 'q'): 0.5, ('s', 'a', 'r'): 0.0, ('s', 'a', 's'): 0.0, ('s', 'b', 'q'): 0.5, ('s', 'b', 'r'): 0.0, ('s', 'b', 's'): 0.0}\n"
          ]
        }
      ]
    },
    {
      "cell_type": "code",
      "source": [
        "sequence = input(\"Enter the input Sequence:\\n\")\n",
        "state_s,pro = veterbi(states,observable,i,t,sequence)\n",
        "print(\"Best State Sequence for\",sequence,\"is\",state_s)\n",
        "print(\"Best State Sequence Probability for\",sequence,\"is\",pro)"
      ],
      "metadata": {
        "colab": {
          "base_uri": "https://localhost:8080/"
        },
        "id": "51uGN2FUQxYg",
        "outputId": "6b92a817-99ae-4531-8abd-639ea5b97e90"
      },
      "execution_count": 34,
      "outputs": [
        {
          "output_type": "stream",
          "name": "stdout",
          "text": [
            "Enter the input Sequence:\n",
            "aabb\n",
            "Best State Sequence for aabb is qrqrq\n",
            "Best State Sequence Probability for aabb is 0.015625\n"
          ]
        }
      ]
    },
    {
      "cell_type": "code",
      "source": [
        "a = alpha(states,observable,i,t,sequence)\n",
        "p = get_probability(a)\n",
        "print(\"The Alpha vector for time tick are:\",a)\n",
        "print(\"The value of p1,w is:\",p[len(p)-1])"
      ],
      "metadata": {
        "colab": {
          "base_uri": "https://localhost:8080/"
        },
        "id": "vooivMj4rfIV",
        "outputId": "c3e21858-fb14-4902-abdc-e7d4a9ff7d55"
      },
      "execution_count": 35,
      "outputs": [
        {
          "output_type": "stream",
          "name": "stdout",
          "text": [
            "The Alpha vector for time tick are: [[1, 0, 0], [0.0, 0.25, 0.25], [0.25, 0.0, 0.0], [0.0, 0.0625, 0.0625], [0.0625, 0.0, 0.0]]\n",
            "The value of p1,w is: 0.0625\n"
          ]
        }
      ]
    },
    {
      "cell_type": "code",
      "source": [
        "b = beta(states,observable,i,t,sequence)\n",
        "p = get_probability(b)\n",
        "print(\"The Beta Vectors for time Tick are:\",b)\n",
        "print(\"The probility of p1,w is:\",p[len(p)-1])"
      ],
      "metadata": {
        "colab": {
          "base_uri": "https://localhost:8080/"
        },
        "id": "C4jxAzMH-EKg",
        "outputId": "601bbe21-6b99-45f3-c8a1-212508daa1e5"
      },
      "execution_count": 36,
      "outputs": [
        {
          "output_type": "stream",
          "name": "stdout",
          "text": [
            "The Beta Vectors for time Tick are: [[1, 1, 1], [0.5, 0.5, 0.5], [0.25, 0.25, 0.25], [0.125, 0.125, 0.125], [0.0625, 0, 0]]\n",
            "The probility of p1,w is: 0.0625\n"
          ]
        }
      ]
    },
    {
      "cell_type": "code",
      "source": [
        "result = hmm_training(states,observable,i,t,sequence)\n",
        "#print(get_transition_prob(states,observable,A,B))\n",
        "#print(t)\n",
        "print(result)"
      ],
      "metadata": {
        "colab": {
          "base_uri": "https://localhost:8080/"
        },
        "id": "vdLjc5EFngzJ",
        "outputId": "a3f88a0c-3119-4fb1-fafb-8da0310e2cd6"
      },
      "execution_count": 37,
      "outputs": [
        {
          "output_type": "stream",
          "name": "stdout",
          "text": [
            "{('q', 'a', 'q'): 0.0, ('q', 'a', 'r'): 0.25, ('q', 'a', 's'): 0.25, ('q', 'b', 'q'): 0.0, ('q', 'b', 'r'): 0.25, ('q', 'b', 's'): 0.25, ('r', 'a', 'q'): 0.5, ('r', 'a', 'r'): 0.0, ('r', 'a', 's'): 0.0, ('r', 'b', 'q'): 0.5, ('r', 'b', 'r'): 0.0, ('r', 'b', 's'): 0.0, ('s', 'a', 'q'): 0.5, ('s', 'a', 'r'): 0.0, ('s', 'a', 's'): 0.0, ('s', 'b', 'q'): 0.5, ('s', 'b', 'r'): 0.0, ('s', 'b', 's'): 0.0}\n"
          ]
        }
      ]
    }
  ]
}